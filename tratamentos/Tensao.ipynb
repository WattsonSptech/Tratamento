{
 "cells": [
  {
   "cell_type": "markdown",
   "id": "b19a9ff0",
   "metadata": {},
   "source": [
    "#### Setup inicial e leitura"
   ]
  },
  {
   "cell_type": "code",
   "execution_count": 32,
   "id": "f9f3aab8",
   "metadata": {},
   "outputs": [],
   "source": [
    "import pandas as pd\n",
    "import requests as req\n",
    "from io import StringIO\n",
    "from glob import glob as gb\n",
    "import os"
   ]
  },
  {
   "cell_type": "code",
   "execution_count": 33,
   "id": "6c560284",
   "metadata": {},
   "outputs": [
    {
     "ename": "FileExistsError",
     "evalue": "[Errno 17] Arquivo existe: './temp'",
     "output_type": "error",
     "traceback": [
      "\u001b[31m---------------------------------------------------------------------------\u001b[39m",
      "\u001b[31mFileExistsError\u001b[39m                           Traceback (most recent call last)",
      "\u001b[36mCell\u001b[39m\u001b[36m \u001b[39m\u001b[32mIn[33]\u001b[39m\u001b[32m, line 4\u001b[39m\n\u001b[32m      2\u001b[39m MIN_LIMIT = -\u001b[32m23000\u001b[39m\n\u001b[32m      3\u001b[39m MAX_LIMIT = \u001b[32m23000\u001b[39m\n\u001b[32m----> \u001b[39m\u001b[32m4\u001b[39m \u001b[43mos\u001b[49m\u001b[43m.\u001b[49m\u001b[43mmkdir\u001b[49m\u001b[43m(\u001b[49m\u001b[33;43m\"\u001b[39;49m\u001b[33;43m./temp\u001b[39;49m\u001b[33;43m\"\u001b[39;49m\u001b[43m)\u001b[49m\n",
      "\u001b[31mFileExistsError\u001b[39m: [Errno 17] Arquivo existe: './temp'"
     ]
    }
   ],
   "source": [
    "LOCAL_LOGS_FILEPATH = \"/home/user/Faculdade/Sensores/logs\"\n",
    "MIN_LIMIT = -23000\n",
    "MAX_LIMIT = 23000\n",
    "os.mkdir(\"./temp\")"
   ]
  },
  {
   "cell_type": "code",
   "execution_count": null,
   "id": "6a19289a",
   "metadata": {},
   "outputs": [],
   "source": [
    "def gravar_csv(df, filename):\n",
    "    df.to_csv(f\"./temp/{filename}.csv\", sep=\"|\")"
   ]
  },
  {
   "cell_type": "code",
   "execution_count": null,
   "id": "016f67ed",
   "metadata": {},
   "outputs": [],
   "source": [
    "telemetry_files = gb(f\"{LOCAL_LOGS_FILEPATH}/generation*\")\n",
    "parts = []\n",
    "\n",
    "for f in telemetry_files:\n",
    "    parts.append(pd.read_json(f))\n",
    "\n",
    "telemetry_df = pd.concat(parts, ignore_index=True)\n"
   ]
  },
  {
   "cell_type": "markdown",
   "id": "3b1d092a",
   "metadata": {},
   "source": [
    "#### Filtragem e tratamentos"
   ]
  },
  {
   "cell_type": "code",
   "execution_count": null,
   "id": "d6737b31",
   "metadata": {},
   "outputs": [],
   "source": [
    "tension = telemetry_df[\n",
    "    (telemetry_df[\"valueType\"] == \"volts\") &\n",
    "    (telemetry_df[\"scenery\"] == \"NORMAL\")\n",
    "].reset_index(drop=True).copy()\n",
    "\n",
    "tension[\"instant\"] = pd.to_datetime(tension[\"instant\"])"
   ]
  },
  {
   "cell_type": "markdown",
   "id": "5ec40944",
   "metadata": {},
   "source": [
    "### API Pop. por zona"
   ]
  },
  {
   "cell_type": "code",
   "execution_count": null,
   "id": "a34b9d34",
   "metadata": {},
   "outputs": [],
   "source": [
    "API_URL = \"https://pastebin.com/raw/Nz1aMUEM\"\n",
    "res = req.get(API_URL)"
   ]
  },
  {
   "cell_type": "code",
   "execution_count": null,
   "id": "2cfe628c",
   "metadata": {},
   "outputs": [],
   "source": [
    "pop_by_zone = pd.read_csv(StringIO(res.text))"
   ]
  },
  {
   "cell_type": "code",
   "execution_count": null,
   "id": "95f7acbe",
   "metadata": {},
   "outputs": [],
   "source": [
    "pop_by_zone[\"zone\"] = pop_by_zone[\"zona\"].str.upper()"
   ]
  },
  {
   "cell_type": "code",
   "execution_count": null,
   "id": "f8773c59",
   "metadata": {},
   "outputs": [],
   "source": [
    "pop_by_zone = pop_by_zone.groupby(\"zone\")[\"populacao\"].sum()"
   ]
  },
  {
   "cell_type": "markdown",
   "id": "17f51a95",
   "metadata": {},
   "source": [
    "### 1. Estouros por zona"
   ]
  },
  {
   "cell_type": "code",
   "execution_count": null,
   "id": "935c3e78",
   "metadata": {},
   "outputs": [
    {
     "data": {
      "application/vnd.microsoft.datawrangler.viewer.v0+json": {
       "columns": [
        {
         "name": "zone",
         "rawType": "object",
         "type": "string"
        },
        {
         "name": "BaixaTensao",
         "rawType": "int64",
         "type": "integer"
        },
        {
         "name": "AltaTensao",
         "rawType": "int64",
         "type": "integer"
        }
       ],
       "ref": "6c7f49c8-f7d7-4605-9b7c-2492ccef6254",
       "rows": [
        [
         "OESTE",
         "2",
         "1228"
        ],
        [
         "NORDESTE",
         "1",
         "1215"
        ],
        [
         "LESTE",
         "3",
         "1214"
        ],
        [
         "SUL",
         "1",
         "1205"
        ],
        [
         "CENTRO",
         "2",
         "1189"
        ],
        [
         "SUDESTE",
         "1",
         "1172"
        ],
        [
         "NORTE",
         "0",
         "1168"
        ]
       ],
       "shape": {
        "columns": 2,
        "rows": 7
       }
      },
      "text/html": [
       "<div>\n",
       "<style scoped>\n",
       "    .dataframe tbody tr th:only-of-type {\n",
       "        vertical-align: middle;\n",
       "    }\n",
       "\n",
       "    .dataframe tbody tr th {\n",
       "        vertical-align: top;\n",
       "    }\n",
       "\n",
       "    .dataframe thead th {\n",
       "        text-align: right;\n",
       "    }\n",
       "</style>\n",
       "<table border=\"1\" class=\"dataframe\">\n",
       "  <thead>\n",
       "    <tr style=\"text-align: right;\">\n",
       "      <th></th>\n",
       "      <th>BaixaTensao</th>\n",
       "      <th>AltaTensao</th>\n",
       "    </tr>\n",
       "    <tr>\n",
       "      <th>zone</th>\n",
       "      <th></th>\n",
       "      <th></th>\n",
       "    </tr>\n",
       "  </thead>\n",
       "  <tbody>\n",
       "    <tr>\n",
       "      <th>OESTE</th>\n",
       "      <td>2</td>\n",
       "      <td>1228</td>\n",
       "    </tr>\n",
       "    <tr>\n",
       "      <th>NORDESTE</th>\n",
       "      <td>1</td>\n",
       "      <td>1215</td>\n",
       "    </tr>\n",
       "    <tr>\n",
       "      <th>LESTE</th>\n",
       "      <td>3</td>\n",
       "      <td>1214</td>\n",
       "    </tr>\n",
       "    <tr>\n",
       "      <th>SUL</th>\n",
       "      <td>1</td>\n",
       "      <td>1205</td>\n",
       "    </tr>\n",
       "    <tr>\n",
       "      <th>CENTRO</th>\n",
       "      <td>2</td>\n",
       "      <td>1189</td>\n",
       "    </tr>\n",
       "    <tr>\n",
       "      <th>SUDESTE</th>\n",
       "      <td>1</td>\n",
       "      <td>1172</td>\n",
       "    </tr>\n",
       "    <tr>\n",
       "      <th>NORTE</th>\n",
       "      <td>0</td>\n",
       "      <td>1168</td>\n",
       "    </tr>\n",
       "  </tbody>\n",
       "</table>\n",
       "</div>"
      ],
      "text/plain": [
       "          BaixaTensao  AltaTensao\n",
       "zone                             \n",
       "OESTE               2        1228\n",
       "NORDESTE            1        1215\n",
       "LESTE               3        1214\n",
       "SUL                 1        1205\n",
       "CENTRO              2        1189\n",
       "SUDESTE             1        1172\n",
       "NORTE               0        1168"
      ]
     },
     "execution_count": 9,
     "metadata": {},
     "output_type": "execute_result"
    }
   ],
   "source": [
    "limits_by_zone = tension.groupby(\"zone\").agg(\n",
    "    BaixaTensao=(\"value\", lambda x: x[x < MIN_LIMIT].count()),\n",
    "    AltaTensao=(\"value\", lambda x: x[x > MAX_LIMIT].count())\n",
    ").sort_values([\"AltaTensao\", \"BaixaTensao\"], ascending=False)\n",
    "\n",
    "limits_by_zone"
   ]
  },
  {
   "cell_type": "code",
   "execution_count": null,
   "id": "c18ea932",
   "metadata": {},
   "outputs": [],
   "source": [
    "limits_by_zone = limits_by_zone.merge(pop_by_zone, on=\"zone\").rename(columns={\"populacao\": \"PopulacaoTotal\"}).sort_values(\"PopulacaoTotal\", ascending=False)"
   ]
  },
  {
   "cell_type": "code",
   "execution_count": null,
   "id": "6ef85170",
   "metadata": {},
   "outputs": [],
   "source": [
    "gravar_csv(limits_by_zone, \"limits_by_zone\")"
   ]
  },
  {
   "cell_type": "markdown",
   "id": "fe2cc6c4",
   "metadata": {},
   "source": [
    "#### 2. Estouros por horário"
   ]
  },
  {
   "cell_type": "code",
   "execution_count": null,
   "id": "62d93411",
   "metadata": {},
   "outputs": [],
   "source": [
    "def return_day_period(hour: int):\n",
    "    period = None\n",
    "    if 0 <= hour < 5:\n",
    "        period = \"Madrugada\"\n",
    "    elif 5 <= hour < 11:\n",
    "        period = \"Manhã\"\n",
    "    elif 11 <= hour < 14:\n",
    "        period = \"Meio dia\"\n",
    "    elif 14 <= hour < 16:\n",
    "        period = \"Início da tarde\"\n",
    "    elif 16 <= hour < 18:\n",
    "        period = \"Fim da tarde\"\n",
    "    else:\n",
    "        period = \"Noite\"\n",
    "\n",
    "    return period"
   ]
  },
  {
   "cell_type": "code",
   "execution_count": null,
   "id": "6947a55c",
   "metadata": {},
   "outputs": [],
   "source": [
    "per_hour = tension[tension[\"value\"] > MAX_LIMIT].copy()\n",
    "\n",
    "per_hour[\"hour\"] = per_hour[\"instant\"].dt.strftime(\"%H\").astype(int)\n",
    "per_hour[\"day-period\"] = per_hour[\"hour\"].apply(return_day_period)"
   ]
  },
  {
   "cell_type": "code",
   "execution_count": null,
   "id": "33dc9780",
   "metadata": {},
   "outputs": [],
   "source": [
    "per_hour = per_hour.groupby(\"day-period\")[\"value\"].count().reset_index().sort_values(\"value\", ascending=False)"
   ]
  },
  {
   "cell_type": "code",
   "execution_count": null,
   "id": "d3eb95d8",
   "metadata": {},
   "outputs": [
    {
     "data": {
      "application/vnd.microsoft.datawrangler.viewer.v0+json": {
       "columns": [
        {
         "name": "index",
         "rawType": "int64",
         "type": "integer"
        },
        {
         "name": "day-period",
         "rawType": "object",
         "type": "string"
        },
        {
         "name": "value",
         "rawType": "int64",
         "type": "integer"
        }
       ],
       "ref": "376e9acf-f629-42f2-8221-5b0f96f99de9",
       "rows": [
        [
         "3",
         "Manhã",
         "2074"
        ],
        [
         "5",
         "Noite",
         "2047"
        ],
        [
         "2",
         "Madrugada",
         "1698"
        ],
        [
         "4",
         "Meio dia",
         "1063"
        ],
        [
         "1",
         "Início da tarde",
         "826"
        ],
        [
         "0",
         "Fim da tarde",
         "683"
        ]
       ],
       "shape": {
        "columns": 2,
        "rows": 6
       }
      },
      "text/html": [
       "<div>\n",
       "<style scoped>\n",
       "    .dataframe tbody tr th:only-of-type {\n",
       "        vertical-align: middle;\n",
       "    }\n",
       "\n",
       "    .dataframe tbody tr th {\n",
       "        vertical-align: top;\n",
       "    }\n",
       "\n",
       "    .dataframe thead th {\n",
       "        text-align: right;\n",
       "    }\n",
       "</style>\n",
       "<table border=\"1\" class=\"dataframe\">\n",
       "  <thead>\n",
       "    <tr style=\"text-align: right;\">\n",
       "      <th></th>\n",
       "      <th>day-period</th>\n",
       "      <th>value</th>\n",
       "    </tr>\n",
       "  </thead>\n",
       "  <tbody>\n",
       "    <tr>\n",
       "      <th>3</th>\n",
       "      <td>Manhã</td>\n",
       "      <td>2074</td>\n",
       "    </tr>\n",
       "    <tr>\n",
       "      <th>5</th>\n",
       "      <td>Noite</td>\n",
       "      <td>2047</td>\n",
       "    </tr>\n",
       "    <tr>\n",
       "      <th>2</th>\n",
       "      <td>Madrugada</td>\n",
       "      <td>1698</td>\n",
       "    </tr>\n",
       "    <tr>\n",
       "      <th>4</th>\n",
       "      <td>Meio dia</td>\n",
       "      <td>1063</td>\n",
       "    </tr>\n",
       "    <tr>\n",
       "      <th>1</th>\n",
       "      <td>Início da tarde</td>\n",
       "      <td>826</td>\n",
       "    </tr>\n",
       "    <tr>\n",
       "      <th>0</th>\n",
       "      <td>Fim da tarde</td>\n",
       "      <td>683</td>\n",
       "    </tr>\n",
       "  </tbody>\n",
       "</table>\n",
       "</div>"
      ],
      "text/plain": [
       "        day-period  value\n",
       "3            Manhã   2074\n",
       "5            Noite   2047\n",
       "2        Madrugada   1698\n",
       "4         Meio dia   1063\n",
       "1  Início da tarde    826\n",
       "0     Fim da tarde    683"
      ]
     },
     "execution_count": 30,
     "metadata": {},
     "output_type": "execute_result"
    }
   ],
   "source": [
    "per_hour"
   ]
  },
  {
   "cell_type": "code",
   "execution_count": null,
   "id": "2448c73f",
   "metadata": {},
   "outputs": [],
   "source": [
    "gravar_csv(per_hour, \"per_hour\")"
   ]
  }
 ],
 "metadata": {
  "kernelspec": {
   "display_name": ".venv",
   "language": "python",
   "name": "python3"
  },
  "language_info": {
   "codemirror_mode": {
    "name": "ipython",
    "version": 3
   },
   "file_extension": ".py",
   "mimetype": "text/x-python",
   "name": "python",
   "nbconvert_exporter": "python",
   "pygments_lexer": "ipython3",
   "version": "3.12.3"
  }
 },
 "nbformat": 4,
 "nbformat_minor": 5
}
